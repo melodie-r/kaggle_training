{
 "cells": [
  {
   "cell_type": "markdown",
   "metadata": {},
   "source": [
    "# Practice - Evaluating Models for Spam Filtering"
   ]
  },
  {
   "cell_type": "markdown",
   "metadata": {},
   "source": [
    "## Import the libraries we need"
   ]
  },
  {
   "cell_type": "code",
   "execution_count": 1,
   "metadata": {},
   "outputs": [],
   "source": [
    "# Core libraries\n",
    "import pandas as pd\n",
    "\n",
    "# Sklearn processing\n",
    "from sklearn.preprocessing import MinMaxScaler\n",
    "from sklearn.model_selection import train_test_split\n",
    "\n",
    "# Sklearn classification algorithms\n",
    "from sklearn.tree import DecisionTreeClassifier\n",
    "from sklearn.linear_model import LogisticRegression\n",
    "from sklearn.naive_bayes import GaussianNB\n",
    "from sklearn.neighbors import KNeighborsClassifier\n",
    "\n",
    "# Sklearn classification model evaluation functions\n",
    "from sklearn.metrics import classification_report\n",
    "from sklearn.metrics import accuracy_score\n",
    "from sklearn.metrics import confusion_matrix\n",
    "from sklearn.metrics import precision_score\n",
    "from sklearn.metrics import roc_curve, auc, roc_auc_score\n",
    "from sklearn.metrics import precision_recall_fscore_support\n",
    "\n",
    "# Matplotlib for charting\n",
    "import matplotlib.pyplot as plt"
   ]
  },
  {
   "cell_type": "markdown",
   "metadata": {},
   "source": [
    "Define a useful function."
   ]
  },
  {
   "cell_type": "code",
   "execution_count": 18,
   "metadata": {},
   "outputs": [],
   "source": [
    "# Define a function to plot the ROC/AUC\n",
    "def plotRocAuc(model, X, y):\n",
    "    \n",
    "    probabilities = model.predict_proba(X)\n",
    "    probabilities = probabilities[:, 1]  # keep probabilities for first class only\n",
    "        \n",
    "    # Compute the ROC curve\n",
    "    fpr, tpr, thresholds = roc_curve(y, probabilities)    \n",
    "    auc = roc_auc_score(y, probabilities)\n",
    "    \n",
    "    # Plot the \"dumb model\" line\n",
    "    plt.plot([0, 1], [0, 1], linestyle='--')\n",
    "    \n",
    "    # Plot the model line\n",
    "    plt.plot(fpr, tpr, marker='.')\n",
    "    plt.text(0.75, 0.25, \"AUC: \" + str(round(auc,2)))\n",
    "    \n",
    "    # show the plot\n",
    "    plt.show()\n",
    "    \n",
    "    return auc"
   ]
  },
  {
   "cell_type": "markdown",
   "metadata": {},
   "source": [
    "## Load and understand the data"
   ]
  },
  {
   "cell_type": "code",
   "execution_count": 52,
   "metadata": {},
   "outputs": [
    {
     "data": {
      "text/html": [
       "<div>\n",
       "<style scoped>\n",
       "    .dataframe tbody tr th:only-of-type {\n",
       "        vertical-align: middle;\n",
       "    }\n",
       "\n",
       "    .dataframe tbody tr th {\n",
       "        vertical-align: top;\n",
       "    }\n",
       "\n",
       "    .dataframe thead th {\n",
       "        text-align: right;\n",
       "    }\n",
       "</style>\n",
       "<table border=\"1\" class=\"dataframe\">\n",
       "  <thead>\n",
       "    <tr style=\"text-align: right;\">\n",
       "      <th></th>\n",
       "      <th>word_freq_make</th>\n",
       "      <th>word_freq_address</th>\n",
       "      <th>word_freq_all</th>\n",
       "      <th>word_freq_3d</th>\n",
       "      <th>word_freq_our</th>\n",
       "      <th>word_freq_over</th>\n",
       "      <th>word_freq_remove</th>\n",
       "      <th>word_freq_internet</th>\n",
       "      <th>word_freq_order</th>\n",
       "      <th>word_freq_mail</th>\n",
       "      <th>...</th>\n",
       "      <th>char_freq_;</th>\n",
       "      <th>char_freq_(</th>\n",
       "      <th>char_freq_[</th>\n",
       "      <th>char_freq_!</th>\n",
       "      <th>char_freq_$</th>\n",
       "      <th>char_freq_#</th>\n",
       "      <th>capital_run_length_average</th>\n",
       "      <th>capital_run_length_longest</th>\n",
       "      <th>capital_run_length_total</th>\n",
       "      <th>spam</th>\n",
       "    </tr>\n",
       "  </thead>\n",
       "  <tbody>\n",
       "    <tr>\n",
       "      <th>0</th>\n",
       "      <td>0.00</td>\n",
       "      <td>0.64</td>\n",
       "      <td>0.64</td>\n",
       "      <td>0.0</td>\n",
       "      <td>0.32</td>\n",
       "      <td>0.00</td>\n",
       "      <td>0.00</td>\n",
       "      <td>0.00</td>\n",
       "      <td>0.00</td>\n",
       "      <td>0.00</td>\n",
       "      <td>...</td>\n",
       "      <td>0.00</td>\n",
       "      <td>0.000</td>\n",
       "      <td>0.0</td>\n",
       "      <td>0.778</td>\n",
       "      <td>0.000</td>\n",
       "      <td>0.000</td>\n",
       "      <td>3.756</td>\n",
       "      <td>61</td>\n",
       "      <td>278</td>\n",
       "      <td>1</td>\n",
       "    </tr>\n",
       "    <tr>\n",
       "      <th>1</th>\n",
       "      <td>0.21</td>\n",
       "      <td>0.28</td>\n",
       "      <td>0.50</td>\n",
       "      <td>0.0</td>\n",
       "      <td>0.14</td>\n",
       "      <td>0.28</td>\n",
       "      <td>0.21</td>\n",
       "      <td>0.07</td>\n",
       "      <td>0.00</td>\n",
       "      <td>0.94</td>\n",
       "      <td>...</td>\n",
       "      <td>0.00</td>\n",
       "      <td>0.132</td>\n",
       "      <td>0.0</td>\n",
       "      <td>0.372</td>\n",
       "      <td>0.180</td>\n",
       "      <td>0.048</td>\n",
       "      <td>5.114</td>\n",
       "      <td>101</td>\n",
       "      <td>1028</td>\n",
       "      <td>1</td>\n",
       "    </tr>\n",
       "    <tr>\n",
       "      <th>2</th>\n",
       "      <td>0.06</td>\n",
       "      <td>0.00</td>\n",
       "      <td>0.71</td>\n",
       "      <td>0.0</td>\n",
       "      <td>1.23</td>\n",
       "      <td>0.19</td>\n",
       "      <td>0.19</td>\n",
       "      <td>0.12</td>\n",
       "      <td>0.64</td>\n",
       "      <td>0.25</td>\n",
       "      <td>...</td>\n",
       "      <td>0.01</td>\n",
       "      <td>0.143</td>\n",
       "      <td>0.0</td>\n",
       "      <td>0.276</td>\n",
       "      <td>0.184</td>\n",
       "      <td>0.010</td>\n",
       "      <td>9.821</td>\n",
       "      <td>485</td>\n",
       "      <td>2259</td>\n",
       "      <td>1</td>\n",
       "    </tr>\n",
       "    <tr>\n",
       "      <th>3</th>\n",
       "      <td>0.00</td>\n",
       "      <td>0.00</td>\n",
       "      <td>0.00</td>\n",
       "      <td>0.0</td>\n",
       "      <td>0.63</td>\n",
       "      <td>0.00</td>\n",
       "      <td>0.31</td>\n",
       "      <td>0.63</td>\n",
       "      <td>0.31</td>\n",
       "      <td>0.63</td>\n",
       "      <td>...</td>\n",
       "      <td>0.00</td>\n",
       "      <td>0.137</td>\n",
       "      <td>0.0</td>\n",
       "      <td>0.137</td>\n",
       "      <td>0.000</td>\n",
       "      <td>0.000</td>\n",
       "      <td>3.537</td>\n",
       "      <td>40</td>\n",
       "      <td>191</td>\n",
       "      <td>1</td>\n",
       "    </tr>\n",
       "    <tr>\n",
       "      <th>4</th>\n",
       "      <td>0.00</td>\n",
       "      <td>0.00</td>\n",
       "      <td>0.00</td>\n",
       "      <td>0.0</td>\n",
       "      <td>0.63</td>\n",
       "      <td>0.00</td>\n",
       "      <td>0.31</td>\n",
       "      <td>0.63</td>\n",
       "      <td>0.31</td>\n",
       "      <td>0.63</td>\n",
       "      <td>...</td>\n",
       "      <td>0.00</td>\n",
       "      <td>0.135</td>\n",
       "      <td>0.0</td>\n",
       "      <td>0.135</td>\n",
       "      <td>0.000</td>\n",
       "      <td>0.000</td>\n",
       "      <td>3.537</td>\n",
       "      <td>40</td>\n",
       "      <td>191</td>\n",
       "      <td>1</td>\n",
       "    </tr>\n",
       "  </tbody>\n",
       "</table>\n",
       "<p>5 rows × 58 columns</p>\n",
       "</div>"
      ],
      "text/plain": [
       "   word_freq_make  word_freq_address  word_freq_all  word_freq_3d  \\\n",
       "0            0.00               0.64           0.64           0.0   \n",
       "1            0.21               0.28           0.50           0.0   \n",
       "2            0.06               0.00           0.71           0.0   \n",
       "3            0.00               0.00           0.00           0.0   \n",
       "4            0.00               0.00           0.00           0.0   \n",
       "\n",
       "   word_freq_our  word_freq_over  word_freq_remove  word_freq_internet  \\\n",
       "0           0.32            0.00              0.00                0.00   \n",
       "1           0.14            0.28              0.21                0.07   \n",
       "2           1.23            0.19              0.19                0.12   \n",
       "3           0.63            0.00              0.31                0.63   \n",
       "4           0.63            0.00              0.31                0.63   \n",
       "\n",
       "   word_freq_order  word_freq_mail  ...  char_freq_;  char_freq_(  \\\n",
       "0             0.00            0.00  ...         0.00        0.000   \n",
       "1             0.00            0.94  ...         0.00        0.132   \n",
       "2             0.64            0.25  ...         0.01        0.143   \n",
       "3             0.31            0.63  ...         0.00        0.137   \n",
       "4             0.31            0.63  ...         0.00        0.135   \n",
       "\n",
       "   char_freq_[  char_freq_!  char_freq_$  char_freq_#  \\\n",
       "0          0.0        0.778        0.000        0.000   \n",
       "1          0.0        0.372        0.180        0.048   \n",
       "2          0.0        0.276        0.184        0.010   \n",
       "3          0.0        0.137        0.000        0.000   \n",
       "4          0.0        0.135        0.000        0.000   \n",
       "\n",
       "   capital_run_length_average  capital_run_length_longest  \\\n",
       "0                       3.756                          61   \n",
       "1                       5.114                         101   \n",
       "2                       9.821                         485   \n",
       "3                       3.537                          40   \n",
       "4                       3.537                          40   \n",
       "\n",
       "   capital_run_length_total  spam  \n",
       "0                       278     1  \n",
       "1                      1028     1  \n",
       "2                      2259     1  \n",
       "3                       191     1  \n",
       "4                       191     1  \n",
       "\n",
       "[5 rows x 58 columns]"
      ]
     },
     "execution_count": 52,
     "metadata": {},
     "output_type": "execute_result"
    }
   ],
   "source": [
    "dataset = pd.read_csv(\"spam.csv\")\n",
    "dataset.head()"
   ]
  },
  {
   "cell_type": "code",
   "execution_count": 10,
   "metadata": {},
   "outputs": [
    {
     "data": {
      "text/plain": [
       "(4601, 58)"
      ]
     },
     "execution_count": 10,
     "metadata": {},
     "output_type": "execute_result"
    }
   ],
   "source": [
    "# Size of data set\n",
    "dataset.shape"
   ]
  },
  {
   "cell_type": "code",
   "execution_count": 53,
   "metadata": {},
   "outputs": [
    {
     "data": {
      "text/plain": [
       "word_freq_make                0.0\n",
       "word_freq_address             0.0\n",
       "word_freq_all                 0.0\n",
       "word_freq_3d                  0.0\n",
       "word_freq_our                 0.0\n",
       "word_freq_over                0.0\n",
       "word_freq_remove              0.0\n",
       "word_freq_internet            0.0\n",
       "word_freq_order               0.0\n",
       "word_freq_mail                0.0\n",
       "word_freq_receive             0.0\n",
       "word_freq_will                0.0\n",
       "word_freq_people              0.0\n",
       "word_freq_report              0.0\n",
       "word_freq_addresses           0.0\n",
       "word_freq_free                0.0\n",
       "word_freq_business            0.0\n",
       "word_freq_email               0.0\n",
       "word_freq_you                 0.0\n",
       "word_freq_credit              0.0\n",
       "word_freq_your                0.0\n",
       "word_freq_font                0.0\n",
       "word_freq_000                 0.0\n",
       "word_freq_money               0.0\n",
       "word_freq_hp                  0.0\n",
       "word_freq_hpl                 0.0\n",
       "word_freq_george              0.0\n",
       "word_freq_650                 0.0\n",
       "word_freq_lab                 0.0\n",
       "word_freq_labs                0.0\n",
       "word_freq_telnet              0.0\n",
       "word_freq_857                 0.0\n",
       "word_freq_data                0.0\n",
       "word_freq_415                 0.0\n",
       "word_freq_85                  0.0\n",
       "word_freq_technology          0.0\n",
       "word_freq_1999                0.0\n",
       "word_freq_parts               0.0\n",
       "word_freq_pm                  0.0\n",
       "word_freq_direct              0.0\n",
       "word_freq_cs                  0.0\n",
       "word_freq_meeting             0.0\n",
       "word_freq_original            0.0\n",
       "word_freq_project             0.0\n",
       "word_freq_re                  0.0\n",
       "word_freq_edu                 0.0\n",
       "word_freq_table               0.0\n",
       "word_freq_conference          0.0\n",
       "char_freq_;                   0.0\n",
       "char_freq_(                   0.0\n",
       "char_freq_[                   0.0\n",
       "char_freq_!                   0.0\n",
       "char_freq_$                   0.0\n",
       "char_freq_#                   0.0\n",
       "capital_run_length_average    0.0\n",
       "capital_run_length_longest    0.0\n",
       "capital_run_length_total      0.0\n",
       "spam                          0.0\n",
       "dtype: float64"
      ]
     },
     "execution_count": 53,
     "metadata": {},
     "output_type": "execute_result"
    }
   ],
   "source": [
    "# Check for nulls\n",
    "dataset.isnull().mean()"
   ]
  },
  {
   "cell_type": "markdown",
   "metadata": {},
   "source": [
    "## Check if we have balanced classes"
   ]
  },
  {
   "cell_type": "code",
   "execution_count": 9,
   "metadata": {
    "scrolled": true
   },
   "outputs": [
    {
     "data": {
      "text/plain": [
       "0    2788\n",
       "1    1813\n",
       "Name: spam, dtype: int64"
      ]
     },
     "execution_count": 9,
     "metadata": {},
     "output_type": "execute_result"
    }
   ],
   "source": [
    "# Class distribution - to check if we have balanced classes\n",
    "dataset.spam.value_counts()"
   ]
  },
  {
   "cell_type": "markdown",
   "metadata": {},
   "source": [
    "## Split into X and y"
   ]
  },
  {
   "cell_type": "code",
   "execution_count": 4,
   "metadata": {},
   "outputs": [],
   "source": [
    "# Define the X (input) and y (target) features\n",
    "X = dataset.drop(\"spam\", axis=1)\n",
    "y = dataset.spam"
   ]
  },
  {
   "cell_type": "markdown",
   "metadata": {},
   "source": [
    "## Rescale"
   ]
  },
  {
   "cell_type": "code",
   "execution_count": 5,
   "metadata": {},
   "outputs": [
    {
     "name": "stderr",
     "output_type": "stream",
     "text": [
      "C:\\Users\\llewe\\Anaconda3\\lib\\site-packages\\sklearn\\preprocessing\\data.py:334: DataConversionWarning: Data with input dtype int64, float64 were all converted to float64 by MinMaxScaler.\n",
      "  return self.partial_fit(X, y)\n"
     ]
    }
   ],
   "source": [
    "# Rescale the input features\n",
    "scaler = MinMaxScaler(feature_range=(0,1))\n",
    "X = scaler.fit_transform(X)"
   ]
  },
  {
   "cell_type": "markdown",
   "metadata": {},
   "source": [
    "## Train test split"
   ]
  },
  {
   "cell_type": "code",
   "execution_count": 6,
   "metadata": {},
   "outputs": [],
   "source": [
    "# Split into train (2/3) and test (1/3) sets\n",
    "test_size = 0.33\n",
    "seed = 7\n",
    "X_train, X_test, y_train, y_test = train_test_split(X, y, test_size=test_size, random_state=seed)"
   ]
  },
  {
   "cell_type": "markdown",
   "metadata": {},
   "source": [
    "### Build and check models"
   ]
  },
  {
   "cell_type": "code",
   "execution_count": 61,
   "metadata": {
    "scrolled": false
   },
   "outputs": [
    {
     "name": "stdout",
     "output_type": "stream",
     "text": [
      "LogisticRegression\n",
      "[[1798   94]\n",
      " [ 245  945]]\n",
      "0.8900064892926671\n",
      "              precision    recall  f1-score   support\n",
      "\n",
      "    not spam       0.88      0.95      0.91      1892\n",
      "        spam       0.91      0.79      0.85      1190\n",
      "\n",
      "   micro avg       0.89      0.89      0.89      3082\n",
      "   macro avg       0.89      0.87      0.88      3082\n",
      "weighted avg       0.89      0.89      0.89      3082\n",
      "\n"
     ]
    },
    {
     "name": "stderr",
     "output_type": "stream",
     "text": [
      "C:\\Users\\llewe\\Anaconda3\\lib\\site-packages\\sklearn\\linear_model\\logistic.py:433: FutureWarning: Default solver will be changed to 'lbfgs' in 0.22. Specify a solver to silence this warning.\n",
      "  FutureWarning)\n"
     ]
    },
    {
     "data": {
      "image/png": "[encoded data removed]",
      "text/plain": [
       "<Figure size 432x288 with 1 Axes>"
      ]
     },
     "metadata": {
      "needs_background": "light"
     },
     "output_type": "display_data"
    },
    {
     "name": "stdout",
     "output_type": "stream",
     "text": [
      "DecisionTreeClassifier\n",
      "[[1892    0]\n",
      " [   1 1189]]\n",
      "0.999675535366645\n",
      "              precision    recall  f1-score   support\n",
      "\n",
      "    not spam       1.00      1.00      1.00      1892\n",
      "        spam       1.00      1.00      1.00      1190\n",
      "\n",
      "   micro avg       1.00      1.00      1.00      3082\n",
      "   macro avg       1.00      1.00      1.00      3082\n",
      "weighted avg       1.00      1.00      1.00      3082\n",
      "\n"
     ]
    },
    {
     "data": {
      "image/png": "[encoded data removed]",
      "text/plain": [
       "<Figure size 432x288 with 1 Axes>"
      ]
     },
     "metadata": {
      "needs_background": "light"
     },
     "output_type": "display_data"
    },
    {
     "name": "stdout",
     "output_type": "stream",
     "text": [
      "DecisionTreeClassifier\n",
      "[[1734  158]\n",
      " [ 176 1014]]\n",
      "0.8916288124594419\n",
      "              precision    recall  f1-score   support\n",
      "\n",
      "    not spam       0.91      0.92      0.91      1892\n",
      "        spam       0.87      0.85      0.86      1190\n",
      "\n",
      "   micro avg       0.89      0.89      0.89      3082\n",
      "   macro avg       0.89      0.88      0.89      3082\n",
      "weighted avg       0.89      0.89      0.89      3082\n",
      "\n"
     ]
    },
    {
     "data": {
      "image/png": "[encoded data removed]",
      "text/plain": [
       "<Figure size 432x288 with 1 Axes>"
      ]
     },
     "metadata": {
      "needs_background": "light"
     },
     "output_type": "display_data"
    },
    {
     "name": "stdout",
     "output_type": "stream",
     "text": [
      "GaussianNB\n",
      "[[1396  496]\n",
      " [  56 1134]]\n",
      "0.8208955223880597\n",
      "              precision    recall  f1-score   support\n",
      "\n",
      "    not spam       0.96      0.74      0.83      1892\n",
      "        spam       0.70      0.95      0.80      1190\n",
      "\n",
      "   micro avg       0.82      0.82      0.82      3082\n",
      "   macro avg       0.83      0.85      0.82      3082\n",
      "weighted avg       0.86      0.82      0.82      3082\n",
      "\n"
     ]
    },
    {
     "data": {
      "image/png": "[encoded data removed]",
      "text/plain": [
       "<Figure size 432x288 with 1 Axes>"
      ]
     },
     "metadata": {
      "needs_background": "light"
     },
     "output_type": "display_data"
    },
    {
     "name": "stdout",
     "output_type": "stream",
     "text": [
      "KNeighborsClassifier\n",
      "[[1803   89]\n",
      " [ 120 1070]]\n",
      "0.9321868916288124\n",
      "              precision    recall  f1-score   support\n",
      "\n",
      "    not spam       0.94      0.95      0.95      1892\n",
      "        spam       0.92      0.90      0.91      1190\n",
      "\n",
      "   micro avg       0.93      0.93      0.93      3082\n",
      "   macro avg       0.93      0.93      0.93      3082\n",
      "weighted avg       0.93      0.93      0.93      3082\n",
      "\n"
     ]
    },
    {
     "data": {
      "image/png": "[encoded data removed]",
      "text/plain": [
       "<Figure size 432x288 with 1 Axes>"
      ]
     },
     "metadata": {
      "needs_background": "light"
     },
     "output_type": "display_data"
    }
   ],
   "source": [
    "# Build and fit a few models\n",
    "models = [LogisticRegression(), DecisionTreeClassifier(), DecisionTreeClassifier(max_depth=3), GaussianNB(), KNeighborsClassifier()]\n",
    "\n",
    "for model in models:\n",
    "    print(type(model).__name__)\n",
    "    \n",
    "    model.fit(X_train, y_train)\n",
    "    \n",
    "    # Predict the training data\n",
    "    predictions = model.predict(X_train) \n",
    "\n",
    "    # Plot the confusion matrix\n",
    "    print(confusion_matrix(y_train, predictions))\n",
    "\n",
    "    # Accuracy score\n",
    "    print(accuracy_score(y_train, predictions))\n",
    "\n",
    "    # Classification report\n",
    "    print(classification_report(y_train, predictions, target_names=['not spam','spam']))\n",
    "\n",
    "    # ROC / AUC\n",
    "    plotRocAuc(model, X_train, y_train)\n",
    "    \n",
    "    "
   ]
  },
  {
   "cell_type": "markdown",
   "metadata": {},
   "source": [
    "## Evaluate models"
   ]
  },
  {
   "cell_type": "code",
   "execution_count": 60,
   "metadata": {
    "scrolled": false
   },
   "outputs": [
    {
     "name": "stdout",
     "output_type": "stream",
     "text": [
      "LogisticRegression\n",
      "----------------------------------\n"
     ]
    },
    {
     "data": {
      "image/png": "[encoded data removed]",
      "text/plain": [
       "<Figure size 432x288 with 1 Axes>"
      ]
     },
     "metadata": {
      "needs_background": "light"
     },
     "output_type": "display_data"
    },
    {
     "name": "stdout",
     "output_type": "stream",
     "text": [
      "DecisionTreeClassifier\n",
      "----------------------------------\n"
     ]
    },
    {
     "data": {
      "image/png": "[encoded data removed]",
      "text/plain": [
       "<Figure size 432x288 with 1 Axes>"
      ]
     },
     "metadata": {
      "needs_background": "light"
     },
     "output_type": "display_data"
    },
    {
     "name": "stdout",
     "output_type": "stream",
     "text": [
      "DecisionTreeClassifier\n",
      "----------------------------------\n"
     ]
    },
    {
     "data": {
      "image/png": "[encoded data removed]",
      "text/plain": [
       "<Figure size 432x288 with 1 Axes>"
      ]
     },
     "metadata": {
      "needs_background": "light"
     },
     "output_type": "display_data"
    },
    {
     "name": "stdout",
     "output_type": "stream",
     "text": [
      "GaussianNB\n",
      "----------------------------------\n"
     ]
    },
    {
     "data": {
      "image/png": "[encoded data removed]",
      "text/plain": [
       "<Figure size 432x288 with 1 Axes>"
      ]
     },
     "metadata": {
      "needs_background": "light"
     },
     "output_type": "display_data"
    },
    {
     "name": "stdout",
     "output_type": "stream",
     "text": [
      "KNeighborsClassifier\n",
      "----------------------------------\n"
     ]
    },
    {
     "data": {
      "image/png": "[encoded data removed]",
      "text/plain": [
       "<Figure size 432x288 with 1 Axes>"
      ]
     },
     "metadata": {
      "needs_background": "light"
     },
     "output_type": "display_data"
    }
   ],
   "source": [
    "# Evaluate the models\n",
    "\n",
    "# Create lists to hold the results\n",
    "precision_recalls = []\n",
    "aucs = []\n",
    "accuracys = []\n",
    "\n",
    "for model in models:\n",
    "    print(type(model).__name__)    \n",
    "    print(\"----------------------------------\")\n",
    "\n",
    "    # # Predict the test data\n",
    "    predictions = model.predict(X_test)\n",
    "    \n",
    "    # Get the various evaluation metrics\n",
    "    accuracy = accuracy_score(y_test, predictions)\n",
    "    precision_recall_fscore = precision_recall_fscore_support(y_test, predictions)\n",
    "    auc = plotRocAuc(model, X_test, y_test)\n",
    "    \n",
    "    # Add the metrics to the list\n",
    "    accuracys.append(accuracy)\n",
    "    precision_recalls.append(precision_recall_fscore)\n",
    "    aucs.append(auc)\n",
    "    "
   ]
  },
  {
   "cell_type": "markdown",
   "metadata": {},
   "source": [
    "We want to optimise precision.  Let's see which model gives us the best precision:"
   ]
  },
  {
   "cell_type": "code",
   "execution_count": 59,
   "metadata": {},
   "outputs": [
    {
     "name": "stdout",
     "output_type": "stream",
     "text": [
      "Accuracy\n",
      "LogisticRegression \t 0.87\n",
      "DecisionTreeClassifier \t 0.91\n",
      "DecisionTreeClassifier \t 0.89\n",
      "GaussianNB \t 0.82\n",
      "KNeighborsClassifier \t 0.89\n",
      "\n",
      "Precision\n",
      "LogisticRegression \t 0.92\n",
      "DecisionTreeClassifier \t 0.89\n",
      "DecisionTreeClassifier \t 0.87\n",
      "GaussianNB \t 0.7\n",
      "KNeighborsClassifier \t 0.89\n",
      "\n",
      "Recall\n",
      "LogisticRegression \t 0.76\n",
      "DecisionTreeClassifier \t 0.91\n",
      "DecisionTreeClassifier \t 0.85\n",
      "GaussianNB \t 0.96\n",
      "KNeighborsClassifier \t 0.85\n",
      "\n",
      "F1\n",
      "LogisticRegression \t 0.83\n",
      "DecisionTreeClassifier \t 0.9\n",
      "DecisionTreeClassifier \t 0.86\n",
      "GaussianNB \t 0.81\n",
      "KNeighborsClassifier \t 0.87\n",
      "\n",
      "Auc\n",
      "LogisticRegression \t 0.95\n",
      "DecisionTreeClassifier \t 0.91\n",
      "DecisionTreeClassifier \t 0.9\n",
      "GaussianNB \t 0.92\n",
      "KNeighborsClassifier \t 0.94\n"
     ]
    }
   ],
   "source": [
    "print(\"Accuracy\")\n",
    "for i,model in enumerate(models):\n",
    "    print(type(model).__name__, \"\\t\", round(accuracys[i],2))\n",
    "    \n",
    "print(\"\\nPrecision\")\n",
    "for i,model in enumerate(models):\n",
    "    print(type(model).__name__, \"\\t\", round(precision_recalls[i][0][1],2))\n",
    "\n",
    "print(\"\\nRecall\")\n",
    "for i,model in enumerate(models):\n",
    "    print(type(model).__name__, \"\\t\", round(precision_recalls[i][1][1],2))\n",
    "    \n",
    "print(\"\\nF1\")\n",
    "for i,model in enumerate(models):\n",
    "    print(type(model).__name__, \"\\t\", round(precision_recalls[i][2][1],2))\n",
    "    \n",
    "print(\"\\nAuc\")\n",
    "for i,model in enumerate(models):\n",
    "    print(type(model).__name__, \"\\t\", round(aucs[i],2))    "
   ]
  }
 ],
 "metadata": {
  "kernelspec": {
   "display_name": "Python 3",
   "language": "python",
   "name": "python3"
  },
  "language_info": {
   "codemirror_mode": {
    "name": "ipython",
    "version": 3
   },
   "file_extension": ".py",
   "mimetype": "text/x-python",
   "name": "python",
   "nbconvert_exporter": "python",
   "pygments_lexer": "ipython3",
   "version": "3.7.3"
  }
 },
 "nbformat": 4,
 "nbformat_minor": 2
}
