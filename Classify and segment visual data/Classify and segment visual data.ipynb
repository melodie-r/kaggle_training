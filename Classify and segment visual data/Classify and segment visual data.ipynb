{
 "cells": [
  {
   "cell_type": "markdown",
   "metadata": {},
   "source": [
    "**Course link:**  \n",
    "https://openclassrooms.com/fr/courses/4470531-classez-et-segmentez-des-donnees-visuelles/4470538-comprenez-comment-un-ordinateur-voit-une-image"
   ]
  },
  {
   "cell_type": "markdown",
   "metadata": {
    "heading_collapsed": true
   },
   "source": [
    "# 1.1/ Understand how a computer sees an image"
   ]
  },
  {
   "cell_type": "code",
   "execution_count": 2,
   "metadata": {
    "hidden": true
   },
   "outputs": [],
   "source": [
    "from PIL import Image\n",
    "\n",
    "# Charger l'image\n",
    "img = Image.open(\"simba.png\") \n",
    "\n",
    "# Afficher l'image chargée\n",
    "img.show()"
   ]
  },
  {
   "cell_type": "code",
   "execution_count": 3,
   "metadata": {
    "hidden": true
   },
   "outputs": [
    {
     "name": "stdout",
     "output_type": "stream",
     "text": [
      "Largeur : 250 px, hauteur : 263 px\n"
     ]
    }
   ],
   "source": [
    "# Récupérer et afficher la taille de l'image (en pixels)\n",
    "w, h = img.size\n",
    "print(\"Largeur : {} px, hauteur : {} px\".format(w, h))"
   ]
  },
  {
   "cell_type": "code",
   "execution_count": 4,
   "metadata": {
    "hidden": true
   },
   "outputs": [
    {
     "name": "stdout",
     "output_type": "stream",
     "text": [
      "Format des pixels : L\n",
      "Valeur du pixel situé en (20,100) : 196\n"
     ]
    }
   ],
   "source": [
    "# Afficher son mode de quantification\n",
    "print(\"Format des pixels : {}\".format(img.mode))\n",
    "\n",
    "# Récupérer et afficher la valeur du pixel à une position précise\n",
    "px_value = img.getpixel((20,100))\n",
    "print(\"Valeur du pixel situé en (20,100) : {}\".format(px_value))"
   ]
  },
  {
   "cell_type": "markdown",
   "metadata": {
    "hidden": true
   },
   "source": [
    "Note: \n",
    "- Le mode 'L' signifie que les intensités sont codées sur 8 bits, ce qui est équivalent aux 256 niveaux de gris d'une image en noir et blanc. Tous les modes possibles sont répertoriés dans la documentation de Pillow.\n",
    "- Par convention dans Pillow, le repère cartésien a pour origine le pixel le plus en haut à gauche de l'image, et l'axe des ordonnées est orienté vers le bas. "
   ]
  },
  {
   "cell_type": "code",
   "execution_count": 6,
   "metadata": {
    "hidden": true
   },
   "outputs": [
    {
     "name": "stdout",
     "output_type": "stream",
     "text": [
      "Taille de la matrice de pixels : (263, 250)\n"
     ]
    },
    {
     "data": {
      "text/plain": [
       "array([[247, 245, 245, ..., 224, 228, 228],\n",
       "       [246, 244, 243, ..., 228, 230, 230],\n",
       "       [244, 242, 240, ..., 230, 231, 231],\n",
       "       ...,\n",
       "       [183, 169, 169, ..., 108,  95, 102],\n",
       "       [170, 160, 171, ...,  81,  95,  99],\n",
       "       [150, 155, 174, ..., 133, 115, 111]], dtype=uint8)"
      ]
     },
     "execution_count": 6,
     "metadata": {},
     "output_type": "execute_result"
    }
   ],
   "source": [
    "import numpy as np\n",
    "\n",
    "# Récupérer les valeurs de tous les pixels sous forme d'une matrice\n",
    "mat = np.array(img)\n",
    "\n",
    "# Afficher la taille de la matrice de pixels\n",
    "print(\"Taille de la matrice de pixels : {}\".format(mat.shape))\n",
    "\n",
    "mat"
   ]
  },
  {
   "cell_type": "markdown",
   "metadata": {
    "hidden": true
   },
   "source": [
    "Attention à l'inversion ligne/colonne et abscisse/ordonnée : l'intensité du pixel d'abscisse x et d'ordonnée y correspond à l'élément de la matrice situé à la y-ème ligne et x-ème colonne ! "
   ]
  },
  {
   "cell_type": "markdown",
   "metadata": {
    "heading_collapsed": true
   },
   "source": [
    "# 1.2/ Image processing"
   ]
  },
  {
   "cell_type": "markdown",
   "metadata": {
    "heading_collapsed": true,
    "hidden": true
   },
   "source": [
    "## Histogram manipulation"
   ]
  },
  {
   "cell_type": "markdown",
   "metadata": {
    "hidden": true
   },
   "source": [
    "Les techniques de traitement d'images basées sur la modification d'histogrammes font partie de la classe des traitements dits ponctuels : la valeur de chaque pixel est corrigée, et ce indépendamment des autres pixels.  \n",
    "Lorsque l'histogramme est normalisé, il indique en ordonnée la probabilité pi de trouver un pixel de niveau de gris i dans l'image.  \n",
    "Un histogramme cumulé normalisé calcule le pourcentage de pixels ayant une valeur inférieure à un niveau de gris donné."
   ]
  },
  {
   "cell_type": "code",
   "execution_count": 8,
   "metadata": {
    "hidden": true
   },
   "outputs": [
    {
     "data": {
      "image/png": "[encoded data removed]",
      "text/plain": [
       "<Figure size 432x288 with 1 Axes>"
      ]
     },
     "metadata": {
      "needs_background": "light"
     },
     "output_type": "display_data"
    }
   ],
   "source": [
    "import matplotlib.pyplot as plt\n",
    "import numpy as np\n",
    "from PIL import Image\n",
    "\n",
    "# Charger l'image comme matrice de pixels\n",
    "img = np.array(Image.open('simba.png'))\n",
    "\n",
    "# Générer et afficher l'histogramme\n",
    "# Pour le normaliser : argument density=True dans plt.hist\n",
    "# Pour avoir l'histogramme cumulé : argument cumulative=True\n",
    "n, bins, patches = plt.hist(img.flatten(), bins=range(256))\n",
    "plt.show()"
   ]
  },
  {
   "cell_type": "markdown",
   "metadata": {
    "hidden": true
   },
   "source": [
    "Grossièrement, à gauche se situent les pixels noirs, à droite les pixels blancs, et au milieu, toutes les nuances de gris."
   ]
  },
  {
   "cell_type": "markdown",
   "metadata": {
    "hidden": true
   },
   "source": [
    "**Étirement d’histogrammes**"
   ]
  },
  {
   "attachments": {
    "image.png": {
     "image/png": "[encoded data removed]"
    }
   },
   "cell_type": "markdown",
   "metadata": {
    "hidden": true
   },
   "source": [
    "Pour corriger les défauts liés à l’exposition d'une image, il suffit simplement d'étirer son histogramme : l'objectif est d'étendre les valeurs des niveaux de gris de l'image mal exposée, majoritairement répartis dans un sous intervalle [Imin,Imax]⊂[0,255] , à tout l'intervalle disponible.  \n",
    "Cette transformation se fait simplement à l’aide de la règle de trois : la valeur de chaque pixel est remplacée par le résultat de la formule ci-dessous.\n",
    "![image.png](attachment:image.png)\n",
    "L'étirement d'histogramme se fait avec la fonction `autocontrast` du module ImageOps de Pillow. "
   ]
  },
  {
   "cell_type": "markdown",
   "metadata": {
    "hidden": true
   },
   "source": [
    "**Égalisation d’histogrammes**"
   ]
  },
  {
   "attachments": {
    "image.png": {
     "image/png": "[encoded data removed]"
    }
   },
   "cell_type": "markdown",
   "metadata": {
    "hidden": true
   },
   "source": [
    "L'objectif est donc d'harmoniser la distribution des niveaux de gris de l'image, de sorte que chaque niveau de l'histogramme contienne idéalement le même nombre de pixels. Concrètement, on essaye d'aplatir au maximum l'histogramme original.  \n",
    "Pour cela, nous calculons d'abord l'histogramme cumulé normalisé de l'image, puis nous ajustons la valeur de chaque pixel en utilisant la formule mathématique suivante : \n",
    "![image.png](attachment:image.png)\n",
    "où pi désigne la probabilité qu'un pixel de l'image initiale soit d'intensité i. \n",
    "L'égalisation d'histogramme correspond à la fonction  `PIL.ImageOps.equalize` . "
   ]
  },
  {
   "cell_type": "markdown",
   "metadata": {
    "heading_collapsed": true,
    "hidden": true
   },
   "source": [
    "## Geometric transformations"
   ]
  },
  {
   "attachments": {
    "image.png": {
     "image/png": "[encoded data removed]"
    }
   },
   "cell_type": "markdown",
   "metadata": {
    "hidden": true
   },
   "source": [
    "Une transformation géométrique est caractérisée par une matrice et un vecteur réels, respectivement notés T et V. \n",
    "![image.png](attachment:image.png)\n",
    "\n",
    "Il existe deux modes d'interpolation principaux :\n",
    "- L'interpolation au plus proche voisin : la nouvelle valeur est déterminée comme l'intensité du pixel le plus proche. Il s'agit de la technique d'interpolation la plus simple et la plus rapide, mais en contrepartie, elle offre une moins bonne qualité visuelle.\n",
    "- L'interpolation bilinéaire : la nouvelle valeur est calculée à partir des intensités des quatre pixels voisins."
   ]
  },
  {
   "cell_type": "markdown",
   "metadata": {
    "heading_collapsed": true,
    "hidden": true
   },
   "source": [
    "## Noise elimination"
   ]
  },
  {
   "cell_type": "markdown",
   "metadata": {
    "hidden": true
   },
   "source": [
    "On parle de bruit additif lorsque l'image bruitée est la somme de l'image originale et du bruit. Un exemple très classique de bruit additif est le bruit gaussien, pour lequel les intensités sont choisies aléatoirement selon une loi normale.  \n",
    "Il existe d'autres types de bruits, comme le bruit impulsionnel : un certain pourcentage de pixels dans l'image est remplacé par une valeur tirée uniformément sur [0,255]"
   ]
  },
  {
   "cell_type": "code",
   "execution_count": 9,
   "metadata": {
    "hidden": true
   },
   "outputs": [],
   "source": [
    "# Charger l'image sous forme d'une matrice de pixels\n",
    "img = np.array(Image.open('simba.png'))\n",
    "\n",
    "# Générer le bruit gaussien de moyenne nulle et d'écart-type 7 (variance 49)\n",
    "noise = np.random.normal(0, 7, img.shape)\n",
    "\n",
    "# Créer l'image bruitée et l'afficher\n",
    "noisy_img = Image.fromarray(img + noise).convert('L')\n",
    "noisy_img.show()"
   ]
  },
  {
   "cell_type": "markdown",
   "metadata": {
    "hidden": true
   },
   "source": [
    "Plusieurs techniques de débruitage (ou lissage) ont été développées afin d'atténuer le bruit dans une image. Le **lissage par moyennage** désigne la solution la plus intuitive.  \n",
    "En Pillow, le lissage par moyennage est implémenté dans la classe `PIL.ImageFilter.BoxBlur` et il s'applique avec la méthode  `PIL.Image.filter` :  "
   ]
  },
  {
   "cell_type": "code",
   "execution_count": 11,
   "metadata": {
    "hidden": true
   },
   "outputs": [],
   "source": [
    "from PIL import ImageFilter\n",
    "\n",
    "# Appliquer le lissage par moyennage (fenêtre de taille 9) et afficher le résultat\n",
    "noisy_img.filter(ImageFilter.BoxBlur(1)).show()"
   ]
  },
  {
   "cell_type": "markdown",
   "metadata": {
    "heading_collapsed": true
   },
   "source": [
    "# 1.3/ Filter an image"
   ]
  },
  {
   "cell_type": "markdown",
   "metadata": {
    "hidden": true
   },
   "source": [
    "**Les filtres linéaires**  \n",
    "Une propriété importante d'un filtre linéaire est l'invariance par translation : la modification d'un pixel dépend de son voisinage, et non de sa position dans l'image."
   ]
  },
  {
   "cell_type": "markdown",
   "metadata": {
    "hidden": true
   },
   "source": [
    "**L'opérateur de convolution**  \n",
    "Un filtre linéaire remplace la valeur de chaque pixel en entrée par une combinaison linéaire des intensités de ses pixels voisins. L'opérateur permettant d’effectuer cette transformation est appelé produit de convolution.  \n",
    "En notant ∗ l'opérateur de convolution, la relation mathématique entre l'image initiale X et l'image filtrée Y pour tout type de filtre linéaire s'écrit Y=H∗X.  \n",
    "H  est le noyau (ou masque) de convolution : il s'agit d'une matrice carrée de taille impaire 2k+1, qui caractérise le filtre linéaire appliqué. \n",
    "\n",
    "Notez que le produit de convolution est bien un opérateur linéaire invariant par translation puisqu'il est seulement construit à partir de multiplications et d'additions."
   ]
  },
  {
   "cell_type": "markdown",
   "metadata": {
    "hidden": true
   },
   "source": [
    "**Exemples de filtres courants**  \n",
    "- Filtre Gaussien : Un filtre gaussien est un filtre linéaire dont les éléments du noyau de convolution sont déterminés selon la densité d'une loi gaussienne centrée à 2 dimensions. Le filtre gaussien s'applique en Pillow avec la méthode  `PIL.Image.filter` et la classe `PIL.ImageFilter.GaussianBlur`, dont le paramètre radius en entrée désigne σ. La performance du filtre gaussien dépend de la valeur de sa variance : plus l'image est bruitée, plus on doit augmenter la variance, mais plus l'image devient floue.   \n",
    ".\n",
    "- Filtre médian (non-linéaire) : la valeur de chaque pixel est remplacée par la médiane (et non la moyenne) de son voisinage. Les filtres non-linéaires sont des filtres dont le fonctionnement ne peut être défini comme un produit de convolution.  "
   ]
  },
  {
   "cell_type": "markdown",
   "metadata": {
    "heading_collapsed": true
   },
   "source": [
    "# 2.1/ The notion of \"features\" in an image"
   ]
  },
  {
   "cell_type": "markdown",
   "metadata": {
    "hidden": true
   },
   "source": [
    "**Le template matching avec les filtres**  \n",
    "\n",
    "Le template matching réalisé avec des filtres utilise l'opérateur de **corrélation croisée** (cross-correlation), noté ⊗. Cet opérateur transforme l'image de représentation matricielle X en une nouvelle image Y.  \n",
    "Dans ce contexte, H est une petite image représentant le template à retrouver. Concrètement, cette opération revient à faire glisser H sur l'image X, à multiplier les pixels qui se superposent et à sommer ces produits.  \n",
    "La nouvelle image Y, appelée **carte de corrélation**, nous indique où le template a été détecté : plus une région est claire (d'intensités élevées), plus elle ressemble au template recherché."
   ]
  },
  {
   "cell_type": "markdown",
   "metadata": {
    "hidden": true
   },
   "source": [
    "**Features**  \n",
    "\n",
    "A chaque feature détectée est associé un vecteur, appelé descripteur (feature descriptor ou feature vector).  \n",
    "La résolution du problème d'image matching se fait alors en deux étapes :\n",
    "- Détecter et décrire les features dans chaque image\n",
    "- Trouver les paires de features qui se correspondent dans les deux images (features matching)\n",
    "\n",
    "Une zone constitue un bon choix de features si elle est :\n",
    "- Répétable : présente des propriétés d'invariance aux transformations géométriques et photométriques;\n",
    "- Distinctive : suffisamment unique et non-ambiguë;\n",
    "- Locale : une feature doit correspondre à une zone suffisamment petite, et elle est décrite selon son voisinage uniquement. "
   ]
  },
  {
   "cell_type": "markdown",
   "metadata": {
    "heading_collapsed": true
   },
   "source": [
    "# 2.2/ Detect corners and edges in an image"
   ]
  },
  {
   "cell_type": "markdown",
   "metadata": {
    "hidden": true
   },
   "source": [
    "**La detection des bords avec le filtre de Canny**\n",
    "\n",
    "Mathématiquement, la détection des bords revient à chercher les points de l'image où la fonction d'intensité I varie brusquement. Or, nous savons qu'une amplitude du gradient élevée indique un fort changement d'intensité. Le but est donc de chercher les maxima locaux de ||∇I||."
   ]
  },
  {
   "cell_type": "markdown",
   "metadata": {
    "hidden": true
   },
   "source": [
    "**La localisation des coins avec le détecteur de Harris-Stephens**\n",
    "\n",
    "Les coins se situent dans les régions où l'intensité varie fortement dans au moins deux directions."
   ]
  },
  {
   "cell_type": "markdown",
   "metadata": {
    "heading_collapsed": true
   },
   "source": [
    "# 2.3/ Effectively describe the features detected with SIFT"
   ]
  },
  {
   "cell_type": "markdown",
   "metadata": {
    "hidden": true
   },
   "source": [
    "L'algorithme **SIFT (Scale-invariant feature transform)**, développé en 1999 et très populaire dans le domaine de la vision par ordinateur, permet d'extraire des features (ou points d'intérêt) de l'image et de calculer leurs descripteurs.  \n",
    "L'algorithme SIFT se divise en plusieurs étapes :\n",
    "- Détection : création de l'espace des échelles, calcul des \"DoG\", localisation des points d'intérêt\n",
    "- Description : assignation d'orientation, création des descripteurs"
   ]
  },
  {
   "cell_type": "markdown",
   "metadata": {
    "hidden": true
   },
   "source": [
    "**Detecteur SIFT**  \n",
    "\n",
    "Chaque feature est une zone circulaire intéressante, repérée par son centre (point d'intérêt), et dont le rayon est proportionnel à son échelle caractéristique. La force du détecteur SIFT est sa capacité à trouver des rayons différents, et donc des features de différentes tailles.   \n",
    "Pour détecter des features de différentes tailles, on construit l'espace des échelles. Cela consiste à flouter notre image et à réduire sa taille plusieurs fois. Chaque fois qu'on réduit l'image, on définit une nouvelle octave. **DoG ( Difference of Gaussians)** désigne une image obtenue en faisant la soustraction de deux images successives (deux flous Gaussiens de paramètres σ et kσ) dans une octave.  \n",
    "Les points d'intérêts font partie des extrema locaux de l'ensemble des DoG. "
   ]
  },
  {
   "cell_type": "markdown",
   "metadata": {
    "hidden": true
   },
   "source": [
    "**Descripteur SIFT**  \n",
    "- Assignation d'orientation : Cette étape consiste à déterminer l'orientation de chacun des points d'intérêts afin de rendre le descripteur invariant par rotation. L'orientation d'un point d'intérêt est la direction du gradient la plus rencontrée autour de ce point.\n",
    "\n",
    "- Création des descripteurs : on considère une fenêtre carrée de taille  12σ×12σ  pixels centrée autour d'un point d'intérêt et proportionnelle à son niveau de flou de détection σ . On découpe celle-ci en 16 petites fenêtres carrées, chacune de taille 3σ×3σ  pixels. Pour chacune des 16 fenêtres, un histogramme des orientations du gradient est construit, où les orientations sont décrites par rapport à l'orientation du point d'intérêt."
   ]
  },
  {
   "cell_type": "markdown",
   "metadata": {
    "heading_collapsed": true
   },
   "source": [
    "# 2.4/ Use features to classify images"
   ]
  },
  {
   "attachments": {
    "image.png": {
     "image/png": "[encoded data removed]"
    }
   },
   "cell_type": "markdown",
   "metadata": {
    "hidden": true
   },
   "source": [
    "Les trois étapes d'un algorithme de classification d'images : \n",
    "![image.png](attachment:image.png)\n",
    "\n",
    "Etape 1 : En pratique, on utilise seulement SIFT pour détecter et décrire les features.\n",
    "\n",
    "Etape 2 : Un **bag-of-features** représente une image par un vecteur créé en deux temps : d'abord, on crée les \"visual words\", puis on construit un histogramme. \n",
    "- Pour créer le \"dictionnaire\" de visual words, il suffit d'appliquer un algorithme de clustering aux descripteurs de features construits à l'étape 1, comme le k-means. Les visual words correspondent alors aux centres des clusters trouvés.\n",
    "- Pour chaque image, on crée un histogramme qui indique la fréquence d'apparition de chaque visual word dans l'image.  \n",
    "\n",
    "Finalement, le bag-of-features d'une image est le vecteur dans lequel on a stocké les valeurs de l'histogramme et qu'on a normalisé (en divisant par la norme euclidienne). \n",
    "\n",
    "Etape 3 : on va entraîner un algorithme d'apprentissage supervisé sur les bag-of-features construits à l'étape 2. "
   ]
  },
  {
   "cell_type": "markdown",
   "metadata": {
    "heading_collapsed": true
   },
   "source": [
    "# 3.1/ What is a convolutional neural network (CNN)? "
   ]
  },
  {
   "cell_type": "markdown",
   "metadata": {
    "hidden": true
   },
   "source": [
    "Les réseaux de neurones convolutifs désignent une sous-catégorie de réseaux de neurones spécialement conçus pour traiter des images en entrée. Leur architecture est alors plus spécifique : elle est composée de deux blocs principaux.\n",
    "\n",
    "- Le premier bloc fonctionne comme un extracteur de features\n",
    "\n",
    "- Le deuxieme bloc transforme les valeurs du vecteur en entrée (feature maps) pour renvoyer les probabilités d'apppartenance a chaque classe.\n",
    "\n",
    "Comme pour les réseaux de neurones ordinaires, les paramètres des couches sont déterminés par rétropropagation du gradient. Mais dans le cas des CNN, ces paramètres désignent en particulier les features des images."
   ]
  },
  {
   "cell_type": "markdown",
   "metadata": {
    "heading_collapsed": true
   },
   "source": [
    "# 3.2/ The different layers of a CNN"
   ]
  },
  {
   "cell_type": "markdown",
   "metadata": {
    "hidden": true
   },
   "source": [
    "Il existe quatre types de couches pour un réseau de neurones convolutif.\n",
    "\n",
    "**La couche de convolution**  \n",
    "Son but est de repérer la présence d'un ensemble de features dans les images reçues en entrée. Pour cela, on réalise un filtrage par convolution : le principe est de faire \"glisser\" une fenêtre représentant la feature sur l'image, et de calculer le produit de convolution entre la feature et chaque portion de l'image balayée.  \n",
    "Contrairement aux méthodes traditionnelles, les features ne sont pas pré-définies selon un formalisme particulier (par exemple SIFT), mais apprises par le réseau lors la phase d'entraînement ! \n",
    "\n",
    "**La couche de pooling**  \n",
    "Souvent placée entre deux couches de convolution, elle reçoit en entrée plusieurs feature maps, et applique à chacune d'entre elles l'opération de pooling. L'opération de pooling consiste à réduire la taille des images, tout en préservant leurs caractéristiques importantes.  \n",
    "La couche de pooling permet de réduire le nombre de paramètres et de calculs dans le réseau, et rend le réseau moins sensible à la position des features.\n",
    "\n",
    "**La couche de correction ReLU**  \n",
    "ReLU (Rectified Linear Units) désigne la fonction réelle non-linéaire définie par ReLU(x)=max(0,x).\n",
    "\n",
    "**La couche fully-connected**  \n",
    "La couche fully-connected constitue toujours la dernière couche d'un réseau de neurones.  \n",
    "Elle permet de classifier l'image en entrée du réseau : elle renvoie un vecteur de taille N, où N est le nombre de classes dans notre problème de classification d'images."
   ]
  },
  {
   "cell_type": "markdown",
   "metadata": {},
   "source": [
    "# 3.3/ Build a CNN and gain time with transfer learning"
   ]
  },
  {
   "cell_type": "markdown",
   "metadata": {},
   "source": [
    "Tous les réseaux de neurones convolutifs doivent commencer par une couche de convolution et finir par une couche fully-connected. En général, un réseau de neurones empile plusieurs couches de convolution et de correction ReLU, ajoute ensuite une couche de pooling (facultative), et répète ce motif plusieurs fois; puis, il empile des couches fully-connected.  \n",
    "\n",
    "**Le paramétrage des couches**  \n",
    "La couche de convolution possède quatre hyperparamètres : le nombre de filtres K, la taille F des filtres, le pas S, le zero-padding  P. Choisir P=(F−1)/2 et S=1 permet ainsi d'obtenir des feature maps de même largeur et hauteur que celles reçues en entrée.   \n",
    "La couche de pooling présente seulement deux hyperparamètres : la taille F des cellules et le pas S.  \n",
    "Le choix des hyperparamètres se fait selon un schéma classique :\n",
    "- Pour la couche de convolution, en général, on choisit F=3,P=1,S=1 ou F=5,P=2,S=1.\n",
    "- Pour la couche de pooling, F=2 et S=2 est un choix judicieux. Cela permet d'éliminer 75% des pixels en entrée. On peut également trouver F=3 et S=2 : dans ce cas, les cellules se chevauchent.\n",
    "\n",
    "En pratique, la stratégie la plus efficace consiste à prendre un réseau existant qui classifie bien une large collection d'images (comme ImageNet) et d'appliquer le Transfer Learning."
   ]
  },
  {
   "cell_type": "markdown",
   "metadata": {},
   "source": [
    "**Le Transfer Learning**  \n",
    " Le principe est d'utiliser les connaissances acquises par un réseau de neurones lors de la résolution d'un problème afin d'en résoudre un autre plus ou moins similaire. Nous pouvons exploiter le réseau de neurones pré-entraîné de plusieurs façons, en fonction de la taille du jeu de données en entrée et de sa similarité avec celui utilisé lors du pré-entraînement."
   ]
  },
  {
   "cell_type": "code",
   "execution_count": null,
   "metadata": {},
   "outputs": [],
   "source": []
  }
 ],
 "metadata": {
  "kernelspec": {
   "display_name": "Python 3",
   "language": "python",
   "name": "python3"
  },
  "language_info": {
   "codemirror_mode": {
    "name": "ipython",
    "version": 3
   },
   "file_extension": ".py",
   "mimetype": "text/x-python",
   "name": "python",
   "nbconvert_exporter": "python",
   "pygments_lexer": "ipython3",
   "version": "3.7.3"
  }
 },
 "nbformat": 4,
 "nbformat_minor": 2
}
